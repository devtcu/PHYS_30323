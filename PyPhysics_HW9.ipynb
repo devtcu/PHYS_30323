{
 "cells": [
  {
   "cell_type": "markdown",
   "metadata": {},
   "source": [
    "# Phyiscs Problems - Lectures 18 & 19 - Homework 9 \n",
    "\n",
    "FALL 2023\n"
   ]
  },
  {
   "cell_type": "markdown",
   "metadata": {},
   "source": [
    "### 1) Altitude of a satellite\n",
    "\n",
    "A satellite is to be launched into a circular orbit around the Earth so that it orbits the planet once every T seconds.\n",
    "\n",
    "The altitude h above the Earth’s surface that the satellite must have is:\n",
    "\n",
    "$$h = \\left( \\frac{G M T^2}{4\\pi^2} \\right)^{1/3} - R$$\n",
    "\n",
    "where $G = 6.67 \\times 10^{-11}$ m$^3$ kg$^{-1}$ s$^{-2}$\n",
    "is Newton's gravitational constant, $M = 5.97 \\times 10^{24}$ kg is the mass of the Earth, and $R = 6371$ km is its radius.\n",
    "\n",
    "#### Write a program that asks the user to enter the desired value of T and then calculates and prints out the correct altitude in meters.\n"
   ]
  },
  {
   "cell_type": "code",
   "execution_count": 46,
   "metadata": {},
   "outputs": [
    {
     "name": "stdout",
     "output_type": "stream",
     "text": [
      "Enter the desired value of T: 5\n"
     ]
    },
    {
     "data": {
      "text/plain": [
       "-6307822.833238603"
      ]
     },
     "execution_count": 46,
     "metadata": {},
     "output_type": "execute_result"
    }
   ],
   "source": [
    "import math\n",
    "\n",
    "def height(v):\n",
    "\n",
    "    \n",
    "\n",
    "    G = 6.67 * (10 ** -11)\n",
    "    M = 5.97 * (10**24)\n",
    "    R = 6371000\n",
    "\n",
    "    h = (((G * M * (v**2))/(4 * (math.pi ** 2))) ** (1/3)) - R\n",
    "\n",
    "\n",
    "    return h\n",
    "\n",
    "\n",
    "\n",
    "T = float(input(\"Enter the desired value of T: \"))\n",
    "\n",
    "height(T)\n",
    "\n",
    "    \n"
   ]
  },
  {
   "cell_type": "code",
   "execution_count": null,
   "metadata": {},
   "outputs": [],
   "source": []
  },
  {
   "cell_type": "markdown",
   "metadata": {},
   "source": [
    "Use your program to calculate the altitudes of satellites that orbit the Earth once\n",
    "a day (so-called “geosynchronous” orbit), once every 90 minutes, and once every\n",
    "45 minutes. What do you conclude from the last of these calculations?\n",
    "\n",
    "\n",
    "\n"
   ]
  },
  {
   "cell_type": "code",
   "execution_count": 47,
   "metadata": {},
   "outputs": [
    {
     "name": "stdout",
     "output_type": "stream",
     "text": [
      "35855910.17617497\n",
      "279321.62537285965\n",
      "-2181559.8978108233\n"
     ]
    }
   ],
   "source": [
    "print(height(86400))\n",
    "print(height(5400))\n",
    "print(height(2700))"
   ]
  },
  {
   "cell_type": "code",
   "execution_count": 48,
   "metadata": {},
   "outputs": [],
   "source": [
    "#The altitude of satellites that orbit the earth has a lower limit (indicated by a negative height)"
   ]
  },
  {
   "cell_type": "markdown",
   "metadata": {},
   "source": [
    "Technically a geosynchronous satellite is one that orbits the Earth once persidereal\n",
    "day, which is 23.93 hours, not 24 hours. Why is this? And how much difference\n",
    "will it make to the altitude of the satellite?"
   ]
  },
  {
   "cell_type": "code",
   "execution_count": 49,
   "metadata": {},
   "outputs": [
    {
     "name": "stdout",
     "output_type": "stream",
     "text": [
      "The difference in altitude will be 82147.8462793231 metres\n"
     ]
    }
   ],
   "source": [
    "T1 = height(86148)\n",
    "T2 = height(86400)\n",
    "\n",
    "diff = T2 - T1\n",
    "\n",
    "print(\"The difference in altitude will be\", diff ,\"metres\")\n",
    "\n",
    "#This is because the satellite has to match the earth's rotation on its own axis, which is known as its sidereal day\n",
    "           \n",
    "\n"
   ]
  },
  {
   "cell_type": "markdown",
   "metadata": {},
   "source": [
    "#### Modify your code to calculate the times from 0.5 hour  to 30 days, in steps of 0.5 hours.   Then plot those data points (time vs h) with properly labled axes.  Plot orbits with height below 0 as red, and plots positive heeghts with times less than geosynchronous in blue and those longer in green."
   ]
  },
  {
   "cell_type": "code",
   "execution_count": 95,
   "metadata": {},
   "outputs": [
    {
     "data": {
      "text/plain": [
       "Text(0, 0.5, 'Height (m)')"
      ]
     },
     "execution_count": 95,
     "metadata": {},
     "output_type": "execute_result"
    },
    {
     "data": {
      "image/png": "[encoded data removed]",
      "text/plain": [
       "<Figure size 640x480 with 1 Axes>"
      ]
     },
     "metadata": {},
     "output_type": "display_data"
    }
   ],
   "source": [
    "import numpy as np\n",
    "from numpy import arange\n",
    "from pylab import plot,xlabel,ylabel,show\n",
    "\n",
    "tpoints = arange(0.5, 720, 0.5)\n",
    "hpoints = []\n",
    "redpoints = []\n",
    "bluepoints = []\n",
    "greenpoints = []\n",
    "\n",
    "\n",
    "\n",
    "for t in tpoints:\n",
    "    \n",
    "    h = height(t * 3600)\n",
    "    hpoints.append(h)\n",
    "    \n",
    "    #for j in range(h):\n",
    "        #if h < 0:\n",
    "            #redpoints.append(h)\n",
    "        #if h > 0 & t < 86148:\n",
    "            #bluepoints.append(h)\n",
    "        #else:\n",
    "            #greenpoints.append(h)\n",
    "        \n",
    "    \n",
    "    \n",
    "\n",
    "\n",
    "\n",
    "plot(tpoints,hpoints, c='r') \n",
    "\n",
    "xlabel(\"Period (hours)\")\n",
    "ylabel(\"Height (m)\")\n",
    "\n",
    "\n",
    "\n",
    "\n",
    "\n",
    "\n"
   ]
  },
  {
   "cell_type": "code",
   "execution_count": null,
   "metadata": {},
   "outputs": [],
   "source": []
  },
  {
   "cell_type": "code",
   "execution_count": null,
   "metadata": {},
   "outputs": [],
   "source": []
  },
  {
   "cell_type": "markdown",
   "metadata": {},
   "source": [
    "### 2) Special Relativity\n",
    "\n",
    "A spaceship travels from Earth in a straight line at a (relativistic)\n",
    "speed $v$ to another planet $x$ light years away. Write a program to ask\n",
    "the user for the value of $x$ and the speed $v$ as a fraction of the speed\n",
    "of light, then print out the time in years that the spaceship takes to\n",
    "reach its destination (a) in the rest frame of an observer on Earth\n",
    "and (b) as perceived by a passenger on board the ship.\n",
    "\n",
    "$$x' = \\gamma (x - vt)$$\n",
    "\n",
    "$$t' = \\gamma \\left(t - \\frac{v x}{c^2}\\right)$$\n",
    "\n",
    "$$\\gamma = \\frac{1}{\\sqrt{1 - \\frac{v^2}{c^2}}}$$\n"
   ]
  },
  {
   "cell_type": "code",
   "execution_count": 51,
   "metadata": {},
   "outputs": [],
   "source": [
    "import math\n",
    "\n",
    "\n",
    "\n",
    "def rest_frame(x, v):\n",
    "    t = x / v\n",
    "    return t\n",
    "\n",
    "def moving_frame(x, v):\n",
    "    gamma = 1 / (math.sqrt(1 - (v**2)))\n",
    "    t = rest_frame(x, v) / gamma\n",
    "    return t\n",
    "\n",
    "\n",
    "    \n",
    "    \n",
    "    \n"
   ]
  },
  {
   "cell_type": "markdown",
   "metadata": {},
   "source": [
    "#### Use your program to calculate the answers for a planet 10 light years away with $v = 0.90c$,  $v = 0.98c$, $v = 0.999c$."
   ]
  },
  {
   "cell_type": "code",
   "execution_count": 52,
   "metadata": {},
   "outputs": [
    {
     "name": "stdout",
     "output_type": "stream",
     "text": [
      "11.11111111111111\n",
      "4.843221048378525\n",
      "10.204081632653061\n",
      "2.030586606340043\n",
      "10.01001001001001\n",
      "4.843221048378525\n"
     ]
    }
   ],
   "source": [
    "print(rest_frame(10, 0.9))\n",
    "print(moving_frame(10, 0.9))\n",
    "\n",
    "print(rest_frame(10, 0.98))\n",
    "print(moving_frame(10, 0.98))\n",
    "\n",
    "print(rest_frame(10, 0.999))\n",
    "print(moving_frame(10, 0.9))"
   ]
  },
  {
   "cell_type": "markdown",
   "metadata": {},
   "source": [
    "### 3) The quadratic equation\n",
    "\n",
    " Write a program that takes as input three numbers, $a$, $b$, and $c$, and prints out the two solutions to the quadratic equation $ax^2 + bx + c = 0$ using the standard\n",
    "formula:\n",
    "\n",
    "$$x = \\frac{-b \\pm \\sqrt{b^2 - 4ac}}{2a}$$\n",
    "\n",
    "Use your program to compute the solutions of $0.001x^2 + 1000x + 0.001 = 0$."
   ]
  },
  {
   "cell_type": "code",
   "execution_count": 53,
   "metadata": {},
   "outputs": [
    {
     "name": "stdout",
     "output_type": "stream",
     "text": [
      "Enter a: 0.001\n",
      "Enter b: 1000\n",
      "Enter c: 0.001\n",
      "-9.999894245993346e-07\n",
      "-999999.999999\n"
     ]
    }
   ],
   "source": [
    "import math\n",
    "\n",
    "def quad_pos(a, b, c):\n",
    "    x = (-b + math.sqrt((b**2)- (4 * a * c))) / (2 * a)\n",
    "    return x\n",
    "\n",
    "def quad_neg(a, b, c):\n",
    "    x = (-b - math.sqrt((b**2)- (4 * a * c))) / (2 * a)\n",
    "    return x\n",
    "\n",
    "A = float(input(\"Enter a: \"))\n",
    "B = float(input(\"Enter b: \"))\n",
    "C = float(input(\"Enter c: \"))\n",
    "\n",
    "\n",
    "print(quad_pos(A, B, C))\n",
    "print(quad_neg(A, B, C))\n",
    "\n"
   ]
  },
  {
   "cell_type": "markdown",
   "metadata": {},
   "source": [
    "There is another way to write the solutions to a quadratic equation. Multiplying top and bottom of the solution above by $-b \\mp \\sqrt{b^2 - 4ac}$, show that the solutions\n",
    "can also be written as:\n",
    "\n",
    "$$x = \\frac{2c}{-b \\mp \\sqrt{b^2 - 4ac}}$$\n",
    "\n",
    "Add further lines to your program to print these values in addition to the earlier ones and again use the program to solve $0.001x^2 + 1000x + 0.001 = 0$. What do you see? How do you explain it?"
   ]
  },
  {
   "cell_type": "code",
   "execution_count": 59,
   "metadata": {},
   "outputs": [
    {
     "name": "stdout",
     "output_type": "stream",
     "text": [
      "Enter a: 0.001\n",
      "Enter b: 1000\n",
      "Enter c: 0.001\n",
      "-9.999894245993346e-07\n",
      "-999999.999999\n",
      "-1.000000000001e-06\n",
      "-1000010.5755125057\n"
     ]
    }
   ],
   "source": [
    "import math\n",
    "\n",
    "def quad_pos(a, b, c):\n",
    "    x = (-b + math.sqrt((b**2)- (4 * a * c))) / (2 * a)\n",
    "    return x\n",
    "\n",
    "def quad_neg(a, b, c):\n",
    "    x = (-b - math.sqrt((b**2)- (4 * a * c))) / (2 * a)\n",
    "    return x\n",
    "\n",
    "\n",
    "def quad_pos_2(a, b, c):\n",
    "    x = (2 * c) / (-b - math.sqrt((b**2)- (4 * a * c)))\n",
    "    return x\n",
    "\n",
    "def quad_neg_2(a, b, c):\n",
    "    x = (2 * c) / (-b + math.sqrt((b**2)- (4 * a * c)))\n",
    "    return x\n",
    "\n",
    "A = float(input(\"Enter a: \"))\n",
    "B = float(input(\"Enter b: \"))\n",
    "C = float(input(\"Enter c: \"))\n",
    "\n",
    "\n",
    "print(quad_pos(A, B, C))\n",
    "print(quad_neg(A, B, C))\n",
    "print(quad_pos_2(A, B, C))\n",
    "print(quad_neg_2(A, B, C))\n",
    "\n"
   ]
  },
  {
   "cell_type": "code",
   "execution_count": null,
   "metadata": {},
   "outputs": [],
   "source": []
  },
  {
   "cell_type": "code",
   "execution_count": null,
   "metadata": {},
   "outputs": [],
   "source": []
  },
  {
   "cell_type": "markdown",
   "metadata": {},
   "source": [
    "Using what you have learned, write a new program that calculates both roots of a quadratic equation accurately in all cases."
   ]
  },
  {
   "cell_type": "markdown",
   "metadata": {},
   "source": [
    "### 4) Planetary orbits\n",
    "\n",
    "The orbit in space of one body around another, such as a planet around the Sun, need not be circular. In general it takes the form of an ellipse, with the body sometimes closer in and sometimes further out. If you are given the distance $l_1$ of closest approach that a planet makes to the Sun, also called its perihelion, and its linear velocity $v_1$ at *perihelion*, then any other property of the orbit can be calculated from these two as follows.\n",
    "\n",
    "Kepler’s second law tells us that the distance $l_2$ and velocity $v_2$ of the planet at its most distant point, or *aphelion*, satisfy $l_2 v_2 = l_1 v_1$. \n",
    "\n",
    "\n",
    "Given the values of $v_1$, $l_1$, and $l_2$, other parameters of the orbit are given by simple formulas can that be derived from Kepler’s laws and the fact that the orbit is an ellipse:\n",
    "\n",
    "Semi-Major Axis $$ a = \\frac{1}{2} (l_1 + l_2) $$ \n",
    "Semi-Minor Axis: $$ b = \\sqrt{l_1  l_2} $$ \n",
    "Orbital Period: $$ T = \\frac{2 \\pi a b}{l_1 v_1} $$ \n",
    "Orbital eccentricity:  $$ e = \\frac{l_2 - l_1}{l_2 + l_1}$$\n",
    "\n",
    "#### Write a program with functions that asks the user to enter the distance to the Sun and velocity at perihelion, then calculates and prints the quantities $l2$, $v2$, $a$, $b$, $T$, and $e$.\n",
    "\n",
    "\n"
   ]
  },
  {
   "cell_type": "code",
   "execution_count": 80,
   "metadata": {},
   "outputs": [
    {
     "name": "stdout",
     "output_type": "stream",
     "text": [
      "Enter the perihilion in meters: 1.471e11\n",
      "Enter the velocity at perihilion in m/s: 3.0287e4\n",
      "l2 = 152004039521.89838 meters \n",
      "v2 = 29309.863830021186 m/s \n",
      "a = 149552019760.9492 meters \n",
      "b = 149531917040.04617 meters \n",
      "T = 31538215.903533313 years \n",
      "e = 0.016395764930949172\n"
     ]
    }
   ],
   "source": [
    "import math\n",
    "\n",
    "\n",
    "\n",
    "\n",
    "\n",
    "\n",
    "\n",
    "def quantities(l1,v1):\n",
    "    G = 6.6743 * (10**-11)\n",
    "    M = 1.9891 * (10**30)\n",
    "    A = 1\n",
    "    B = (-2 * G * M) / (v1 * l1)\n",
    "    C = -((v1 ** 2) - ((2 * G * M)/l1))\n",
    "    v2 = quad_neg(A, B, C)\n",
    "\n",
    "    l2 = (l1 * v1) / v2\n",
    "\n",
    "    a = (1 / 2) * (l1 + l2)\n",
    "    b = math.sqrt(l1 * l2)\n",
    "    T = (2 * math.pi * a * b) / (l1 * v1)\n",
    "    e = (l2 - l1) / (l2 + l1)\n",
    "\n",
    "    return('l2 = ' + str(l2) + ' meters \\n' + 'v2 = ' + str(v2) + ' m/s \\n' + 'a = ' + str(a)\n",
    "           + ' meters \\n' + 'b = ' + str(b) + ' meters \\n' + 'T = ' + str(T) + ' years \\n' + 'e = ' + str(e))\n",
    "   \n",
    "\n",
    "l1 = float(input(\"Enter the perihilion in meters: \"))\n",
    "v1 = float(input(\"Enter the velocity at perihilion in m/s: \"))\n",
    "\n",
    "\n",
    "\n",
    "print(quantities(l1,v1))\n",
    "\n",
    "\n",
    "\n",
    "\n",
    "\n"
   ]
  },
  {
   "cell_type": "markdown",
   "metadata": {},
   "source": [
    "#### Test your program by having it calculate the properties of the orbits of the Earth (for which $l_1 = 1.4710 \\times 10^{11}$ m and $v_1 = 3.0287 \\times 10^4$ m s$^{−1}$ ) and Halley’s comet ($l_1 = 8.7830 \\times 10^{10}$ m and $v_1 = 5.4529 \\times 10^4$ m s${−1}$ ). Among other things, you should find that the orbital period of the Earth is one year and that of Halley’s comet is about 76 years."
   ]
  },
  {
   "cell_type": "code",
   "execution_count": 81,
   "metadata": {},
   "outputs": [
    {
     "name": "stdout",
     "output_type": "stream",
     "text": [
      "Enter the perihilion in meters: 1.4710e11\n",
      "Enter the velocity at perihilion in m/s: 3.20287e4\n",
      "l2 = 193667893561.2755 meters \n",
      "v2 = 24327.324903285175 m/s \n",
      "a = 170383946780.63776 meters \n",
      "b = 168785506317.52606 meters \n",
      "T = 38352326.0552592 years \n",
      "e = 0.13665575437464697\n"
     ]
    }
   ],
   "source": [
    "l1 = float(input(\"Enter the perihilion in meters: \"))\n",
    "v1 = float(input(\"Enter the velocity at perihilion in m/s: \"))\n",
    "\n",
    "\n",
    "\n",
    "print(quantities(l1,v1))"
   ]
  },
  {
   "cell_type": "code",
   "execution_count": 82,
   "metadata": {},
   "outputs": [
    {
     "name": "stdout",
     "output_type": "stream",
     "text": [
      "Enter the perihilion in meters: 8.7830e10\n",
      "Enter the velocity at perihilion in m/s: 5.4529e4\n",
      "l2 = 5258128751516.051 meters \n",
      "v2 = 910.8339290130789 m/s \n",
      "a = 2672979375758.0254 meters \n",
      "b = 679574461148.78 meters \n",
      "T = 2383099138.0468674 years \n",
      "e = 0.9671415347246769\n"
     ]
    }
   ],
   "source": [
    "l1 = float(input(\"Enter the perihilion in meters: \"))\n",
    "v1 = float(input(\"Enter the velocity at perihilion in m/s: \"))\n",
    "\n",
    "\n",
    "\n",
    "print(quantities(l1,v1))"
   ]
  },
  {
   "cell_type": "code",
   "execution_count": null,
   "metadata": {},
   "outputs": [],
   "source": []
  }
 ],
 "metadata": {
  "kernelspec": {
   "display_name": "Python 3 (ipykernel)",
   "language": "python",
   "name": "python3"
  },
  "language_info": {
   "codemirror_mode": {
    "name": "ipython",
    "version": 3
   },
   "file_extension": ".py",
   "mimetype": "text/x-python",
   "name": "python",
   "nbconvert_exporter": "python",
   "pygments_lexer": "ipython3",
   "version": "3.11.4"
  }
 },
 "nbformat": 4,
 "nbformat_minor": 4
}
